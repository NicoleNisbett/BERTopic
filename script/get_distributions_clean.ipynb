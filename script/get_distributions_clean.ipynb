{
 "cells": [
  {
   "cell_type": "markdown",
   "metadata": {},
   "source": [
    "## Getting frequency distribution of words in each COP and FFF dataset\n"
   ]
  },
  {
   "cell_type": "code",
   "execution_count": 1,
   "metadata": {},
   "outputs": [],
   "source": [
    "#nltk.download('stopwords')\n",
    "#nltk.download('wordnet')\n",
    "#nltk.download('omw-1.4')\n",
    "#nltk.download('punkt')\n",
    "\n",
    "import pandas as pd\n",
    "import numpy as np\n",
    "import pickle    \n",
    "import nltk\n",
    "from nltk.tokenize import TweetTokenizer\n",
    "import string\n",
    "from nltk.corpus import stopwords\n",
    "from nltk.stem import WordNetLemmatizer\n",
    "from nltk.probability import FreqDist\n",
    "from scipy.spatial.distance import jensenshannon\n",
    "from numpy import asarray"
   ]
  },
  {
   "cell_type": "code",
   "execution_count": 2,
   "metadata": {},
   "outputs": [],
   "source": [
    "path = \"/Users/ipinni/Library/CloudStorage/OneDrive-UniversityofLeeds/UKRI_Tweet_Data/completed/\""
   ]
  },
  {
   "cell_type": "markdown",
   "metadata": {},
   "source": [
    "First get the documents, word frequencies and lemmas from each dataset"
   ]
  },
  {
   "cell_type": "code",
   "execution_count": 3,
   "metadata": {},
   "outputs": [],
   "source": [
    "def preprocess(documents):\n",
    "    tknzr = TweetTokenizer(preserve_case=False)\n",
    "    words = tknzr.tokenize_sents(documents)\n",
    "    words2 = list(np.concatenate(words).flat)\n",
    "    #remove stopwords\n",
    "    stop_wordsNltk = stopwords.words('english')\n",
    "    my_stopwords = list([\"rt\",\"RT\", \"&\", \"amp\", \"&amp\", \"http\",\"https\", \"http://\", \"https://\", \"fav\", \"FAV\"])\n",
    "    new_stops = my_stopwords + stop_wordsNltk\n",
    "    filtered_words = [word for word in words2 if word not in new_stops]\n",
    "    #remove punctuation\n",
    "    punc = list(string.punctuation) + [' ','’','“', '”', '...']\n",
    "    clean = [word for word in filtered_words if word not in punc]\n",
    "    #lemmatize words\n",
    "    lemmatizer = WordNetLemmatizer()\n",
    "    lemmas = [lemmatizer.lemmatize(word) for word in clean]\n",
    "    #get frequencies\n",
    "    freqs=nltk.FreqDist(lemmas)\n",
    "\n",
    "    return lemmas, freqs"
   ]
  },
  {
   "cell_type": "code",
   "execution_count": 4,
   "metadata": {},
   "outputs": [],
   "source": [
    "def get_data(version):\n",
    "    with open(path + version + \"/\" + version + \"docs.list\", 'rb') as docs_list_file:\n",
    "        docs = pickle.load(docs_list_file)\n",
    "\n",
    "    lemmas, freqs = preprocess(docs)\n",
    "\n",
    "    return(lemmas, freqs)   "
   ]
  },
  {
   "cell_type": "code",
   "execution_count": 5,
   "metadata": {},
   "outputs": [],
   "source": [
    "cop20Lemmas, cop20Freqs = get_data(\"COP20\")\n"
   ]
  },
  {
   "cell_type": "code",
   "execution_count": 6,
   "metadata": {},
   "outputs": [],
   "source": [
    "cop21Lemmas, cop21Freqs = get_data(\"COP21\")\n",
    "cop22Lemmas, cop22Freqs = get_data(\"COP22\")\n",
    "cop23Lemmas, cop23Freqs = get_data(\"COP23\")\n",
    "cop24Lemmas, cop24Freqs = get_data(\"COP24\")\n",
    "cop25Lemmas, cop25Freqs = get_data(\"COP25\")\n",
    "cop26Lemmas, cop26Freqs = get_data(\"COP26\")\n",
    "FFF2018Lemmas, FFF2018Freqs = get_data(\"FFF2018\")\n",
    "FFF2019Lemmas, FFF2019Freqs = get_data(\"FFF2019\")\n",
    "FFF2020Lemmas, FFF2020Freqs = get_data(\"FFF2020\")\n",
    "FFF2021Lemmas, FFF2021Freqs = get_data(\"FFF2021\")"
   ]
  },
  {
   "cell_type": "markdown",
   "metadata": {},
   "source": [
    "Create shared vocabulary from unique words in each dataset"
   ]
  },
  {
   "cell_type": "code",
   "execution_count": 7,
   "metadata": {},
   "outputs": [],
   "source": [
    "COP_word_set = set(cop20Freqs.keys()) | set(cop21Freqs.keys()) | set(cop22Freqs.keys()) | set(cop23Freqs.keys()) | set(cop24Freqs.keys()) | set(cop25Freqs.keys()) | set(cop26Freqs.keys())\n",
    "\n",
    "FFF_word_set = set(FFF2018Freqs.keys()) | set(FFF2019Freqs.keys()) | set(FFF2020Freqs.keys()) | set(FFF2021Freqs.keys())\n",
    "all_word_set = COP_word_set | FFF_word_set"
   ]
  },
  {
   "cell_type": "markdown",
   "metadata": {},
   "source": [
    "Save all word set to use in network analysis"
   ]
  },
  {
   "cell_type": "code",
   "execution_count": 8,
   "metadata": {},
   "outputs": [],
   "source": [
    "with open(path + 'vocab.list', 'wb') as vocab_file:\n",
    " pickle.dump(all_word_set, vocab_file)"
   ]
  },
  {
   "cell_type": "markdown",
   "metadata": {},
   "source": [
    "Create a dictionary with each of the words in the shared vocabulary and the number of occurences in each dataset"
   ]
  },
  {
   "cell_type": "code",
   "execution_count": 8,
   "metadata": {},
   "outputs": [],
   "source": [
    "ALLcombined_dictionary = {}\n",
    "for word in all_word_set:\n",
    "    ALLcombined_dictionary[word] = [0,0,0,0,0,0,0,0,0,0,0]\n",
    "    if word in cop20Freqs:\n",
    "        ALLcombined_dictionary[word][0] = cop20Freqs[word]\n",
    "    if word in cop21Freqs:\n",
    "        ALLcombined_dictionary[word][1] = cop21Freqs[word]\n",
    "    if word in cop22Freqs:\n",
    "        ALLcombined_dictionary[word][2] = cop22Freqs[word]\n",
    "    if word in cop23Freqs:\n",
    "        ALLcombined_dictionary[word][3] = cop23Freqs[word]\n",
    "    if word in cop24Freqs:\n",
    "        ALLcombined_dictionary[word][4] = cop24Freqs[word]\n",
    "    if word in cop25Freqs:\n",
    "        ALLcombined_dictionary[word][5] = cop25Freqs[word]\n",
    "    if word in cop26Freqs:\n",
    "       ALLcombined_dictionary[word][6] = cop26Freqs[word]\n",
    "    if word in FFF2018Freqs:\n",
    "        ALLcombined_dictionary[word][7] = FFF2018Freqs[word]\n",
    "    if word in FFF2019Freqs:\n",
    "        ALLcombined_dictionary[word][8] = FFF2019Freqs[word]\n",
    "    if word in FFF2020Freqs:\n",
    "        ALLcombined_dictionary[word][9] = FFF2020Freqs[word]\n",
    "    if word in FFF2021Freqs:\n",
    "        ALLcombined_dictionary[word][10] = FFF2021Freqs[word]"
   ]
  },
  {
   "cell_type": "markdown",
   "metadata": {},
   "source": [
    "Convert to a dataframe and filter out common words"
   ]
  },
  {
   "cell_type": "code",
   "execution_count": 9,
   "metadata": {},
   "outputs": [],
   "source": [
    "ALLdata = pd.DataFrame.from_dict(ALLcombined_dictionary, orient='index', columns = [\"COP20\", \"COP21\", \"COP22\", 'COP23', \"COP24\", \"COP25\", \"COP26\",'FFF2018','FFF2019', 'FFF2020', 'FFF2021'])"
   ]
  },
  {
   "cell_type": "code",
   "execution_count": 10,
   "metadata": {},
   "outputs": [],
   "source": [
    "filters=[\"cop\",\"@cop20\", \"@cop21\", \"@cop22\", \"@cop23\", \"@cop24\", \"@cop25\",\"@cop26\", \"#cop20\", \"#cop21\", \"#cop22\", \"#cop23\", \"#cop24\", \"#cop25\",\"#cop26\", \"climate\", \"20\", \"21\",\"22\",\"23\",\"24\",\"25\",\"26\", \"u\"]\n",
    "FFFfilters=[\"cop\", \"climate\",\"18\", \"19\" ,\"20\", \"21\", \"fff\", \"#fridaysforfuture\", \"u\"]\n",
    "\n",
    "ALLfilters = filters + FFFfilters\n",
    "ALLdata_filtered = ALLdata[ALLdata.index.isin(ALLfilters)==False]"
   ]
  },
  {
   "cell_type": "markdown",
   "metadata": {},
   "source": [
    "Can save this dataframe (or load dataframe here)"
   ]
  },
  {
   "cell_type": "code",
   "execution_count": null,
   "metadata": {},
   "outputs": [],
   "source": [
    "#ALLdata_filtered.to_csv(path + \"ALLwordCounts.csv\") "
   ]
  },
  {
   "cell_type": "code",
   "execution_count": 60,
   "metadata": {},
   "outputs": [],
   "source": [
    "ALLdata_filtered = pd.read_csv(path + \"ALLwordCounts.csv\")\n",
    "ALLdata_filtered.rename(columns = {'Unnamed: 0':'index'}, inplace = True)"
   ]
  },
  {
   "cell_type": "markdown",
   "metadata": {},
   "source": [
    "Create a new dataframe with the values as percentages of occurences in each dataset. Each column (dataset) should sum to 100"
   ]
  },
  {
   "cell_type": "code",
   "execution_count": 19,
   "metadata": {},
   "outputs": [],
   "source": [
    "ALLdata_pc=pd.DataFrame()\n",
    "for i  in ALLdata_filtered.columns[0:12]:\n",
    "    ALLcents = pd.DataFrame(ALLdata_filtered[i] / sum(ALLdata_filtered[i]) * 100)\n",
    "    ALLdata_pc[i] = ALLcents\n",
    "#data_pc['Topic'] = data_pc.index\n",
    "ALLdata_pc = ALLdata_pc.reset_index()"
   ]
  },
  {
   "cell_type": "code",
   "execution_count": 22,
   "metadata": {},
   "outputs": [
    {
     "data": {
      "text/plain": [
       "Index(['COP20', 'COP21', 'COP22', 'COP23', 'COP24', 'COP25', 'COP26',\n",
       "       'FFF2018', 'FFF2019', 'FFF2020', 'FFF2021'],\n",
       "      dtype='object')"
      ]
     },
     "execution_count": 22,
     "metadata": {},
     "output_type": "execute_result"
    }
   ],
   "source": [
    "ALLdata_pc.columns[1:12]"
   ]
  },
  {
   "cell_type": "markdown",
   "metadata": {},
   "source": [
    "Plot the most commonly occuring words in each dataset"
   ]
  },
  {
   "cell_type": "code",
   "execution_count": null,
   "metadata": {},
   "outputs": [],
   "source": [
    "ALLdata_pc['COP26'].sort_values(ascending = False).head(20).plot(kind = 'bar')"
   ]
  },
  {
   "cell_type": "markdown",
   "metadata": {},
   "source": [
    "Sort normalised dataset based on one of the COPs and get just the top 100 rows (easier for plotting etc)"
   ]
  },
  {
   "cell_type": "code",
   "execution_count": null,
   "metadata": {},
   "outputs": [],
   "source": [
    "ALLdatapc_sorted=ALLdata_pc.sort_values(['COP23'], ascending = (False)).head(100)"
   ]
  },
  {
   "cell_type": "code",
   "execution_count": null,
   "metadata": {},
   "outputs": [],
   "source": [
    "ALLdatapc_sorted.head(25).plot(x = 'index', y = [\"COP20\", \"COP21\", \"COP22\", 'COP23', \"COP24\", \"COP25\", \"COP26\"], figsize=(17,7), kind = 'bar').set_ylabel(\"Percentage\")"
   ]
  },
  {
   "cell_type": "markdown",
   "metadata": {},
   "source": [
    "### Jensen Shannon Divergence (JSD)\n",
    "Calculate the JSD for each pair of datasets using the percentages of occurences in each"
   ]
  },
  {
   "cell_type": "code",
   "execution_count": 23,
   "metadata": {},
   "outputs": [],
   "source": [
    "ALLjsdL = []\n",
    "for i in ALLdata_pc.columns[1:12]:\n",
    "    ALLnl=[]\n",
    "    for j in ALLdata_pc.columns[1:12]:\n",
    "        js = jensenshannon(asarray(ALLdata_pc[i]), asarray(ALLdata_pc[j]))\n",
    "        #jsdL[i] = js\n",
    "        ALLnl.append(js)\n",
    "    ALLjsdL.append(ALLnl)\n",
    "\n",
    "ALLjsdM = round(pd.DataFrame(ALLjsdL, index=[\"COP20\", \"COP21\", \"COP22\", 'COP23', \"COP24\", \"COP25\", \"COP26\",'FFF2018','FFF2019', 'FFF2020', 'FFF2021'], columns = [\"COP20\", \"COP21\", \"COP22\", 'COP23', \"COP24\", \"COP25\", \"COP26\",'FFF2018','FFF2019', 'FFF2020', 'FFF2021']),2)"
   ]
  },
  {
   "cell_type": "code",
   "execution_count": 27,
   "metadata": {},
   "outputs": [
    {
     "name": "stderr",
     "output_type": "stream",
     "text": [
      "/Users/ipinni/.conda/envs/bertopic_env2/lib/python3.7/site-packages/ipykernel_launcher.py:1: DeprecationWarning: `np.bool` is a deprecated alias for the builtin `bool`. To silence this warning, use `bool` by itself. Doing this will not modify any behavior and is safe. If you specifically wanted the numpy scalar type, use `np.bool_` here.\n",
      "Deprecated in NumPy 1.20; for more details and guidance: https://numpy.org/devdocs/release/1.20.0-notes.html#deprecations\n",
      "  \"\"\"Entry point for launching an IPython kernel.\n"
     ]
    }
   ],
   "source": [
    "df = ALLjsdM.where(np.triu(np.ones(ALLjsdM.shape)).astype(np.bool))"
   ]
  },
  {
   "cell_type": "code",
   "execution_count": 30,
   "metadata": {},
   "outputs": [
    {
     "data": {
      "text/html": [
       "<style type=\"text/css\">\n",
       "#T_420e5_row0_col0, #T_420e5_row1_col1, #T_420e5_row2_col2, #T_420e5_row3_col3, #T_420e5_row4_col4, #T_420e5_row5_col5, #T_420e5_row6_col6, #T_420e5_row7_col7, #T_420e5_row8_col8, #T_420e5_row9_col9, #T_420e5_row10_col10 {\n",
       "  background-color: #3b4cc0;\n",
       "  color: #f1f1f1;\n",
       "}\n",
       "#T_420e5_row0_col1, #T_420e5_row1_col0, #T_420e5_row1_col5, #T_420e5_row1_col6, #T_420e5_row2_col5, #T_420e5_row5_col1, #T_420e5_row5_col2, #T_420e5_row6_col1, #T_420e5_row8_col10, #T_420e5_row10_col8 {\n",
       "  background-color: #f7aa8c;\n",
       "  color: #000000;\n",
       "}\n",
       "#T_420e5_row0_col2, #T_420e5_row0_col3, #T_420e5_row0_col4, #T_420e5_row2_col0, #T_420e5_row3_col0, #T_420e5_row4_col0, #T_420e5_row6_col8, #T_420e5_row6_col10, #T_420e5_row7_col10, #T_420e5_row8_col6, #T_420e5_row10_col6, #T_420e5_row10_col7 {\n",
       "  background-color: #f39577;\n",
       "  color: #000000;\n",
       "}\n",
       "#T_420e5_row0_col5, #T_420e5_row2_col6, #T_420e5_row5_col0, #T_420e5_row6_col2 {\n",
       "  background-color: #ee8669;\n",
       "  color: #f1f1f1;\n",
       "}\n",
       "#T_420e5_row0_col6, #T_420e5_row4_col7, #T_420e5_row4_col8, #T_420e5_row6_col0, #T_420e5_row7_col4, #T_420e5_row8_col4 {\n",
       "  background-color: #e9785d;\n",
       "  color: #f1f1f1;\n",
       "}\n",
       "#T_420e5_row0_col7, #T_420e5_row0_col8, #T_420e5_row1_col9, #T_420e5_row2_col10, #T_420e5_row3_col9, #T_420e5_row7_col0, #T_420e5_row8_col0, #T_420e5_row9_col1, #T_420e5_row9_col3, #T_420e5_row10_col2 {\n",
       "  background-color: #c73635;\n",
       "  color: #f1f1f1;\n",
       "}\n",
       "#T_420e5_row0_col9, #T_420e5_row9_col0 {\n",
       "  background-color: #b40426;\n",
       "  color: #f1f1f1;\n",
       "}\n",
       "#T_420e5_row0_col10, #T_420e5_row10_col0 {\n",
       "  background-color: #c0282f;\n",
       "  color: #f1f1f1;\n",
       "}\n",
       "#T_420e5_row1_col2, #T_420e5_row1_col3, #T_420e5_row1_col4, #T_420e5_row2_col1, #T_420e5_row2_col4, #T_420e5_row3_col1, #T_420e5_row4_col1, #T_420e5_row4_col2, #T_420e5_row5_col6, #T_420e5_row6_col5 {\n",
       "  background-color: #f7b599;\n",
       "  color: #000000;\n",
       "}\n",
       "#T_420e5_row1_col7, #T_420e5_row1_col8, #T_420e5_row7_col1, #T_420e5_row7_col9, #T_420e5_row8_col1, #T_420e5_row9_col7 {\n",
       "  background-color: #e16751;\n",
       "  color: #f1f1f1;\n",
       "}\n",
       "#T_420e5_row1_col10, #T_420e5_row3_col7, #T_420e5_row5_col9, #T_420e5_row7_col3, #T_420e5_row9_col5, #T_420e5_row10_col1 {\n",
       "  background-color: #d75445;\n",
       "  color: #f1f1f1;\n",
       "}\n",
       "#T_420e5_row2_col3, #T_420e5_row3_col2 {\n",
       "  background-color: #f4c6af;\n",
       "  color: #000000;\n",
       "}\n",
       "#T_420e5_row2_col7, #T_420e5_row4_col9, #T_420e5_row7_col2, #T_420e5_row9_col4 {\n",
       "  background-color: #cc403a;\n",
       "  color: #f1f1f1;\n",
       "}\n",
       "#T_420e5_row2_col8, #T_420e5_row3_col10, #T_420e5_row8_col2, #T_420e5_row10_col3 {\n",
       "  background-color: #d24b40;\n",
       "  color: #f1f1f1;\n",
       "}\n",
       "#T_420e5_row2_col9, #T_420e5_row9_col2 {\n",
       "  background-color: #ba162b;\n",
       "  color: #f1f1f1;\n",
       "}\n",
       "#T_420e5_row3_col4, #T_420e5_row4_col3, #T_420e5_row4_col5, #T_420e5_row5_col4 {\n",
       "  background-color: #f2cab5;\n",
       "  color: #000000;\n",
       "}\n",
       "#T_420e5_row3_col5, #T_420e5_row5_col3, #T_420e5_row7_col8, #T_420e5_row8_col7 {\n",
       "  background-color: #f5c0a7;\n",
       "  color: #000000;\n",
       "}\n",
       "#T_420e5_row3_col6, #T_420e5_row6_col3 {\n",
       "  background-color: #f6a385;\n",
       "  color: #000000;\n",
       "}\n",
       "#T_420e5_row3_col8, #T_420e5_row4_col10, #T_420e5_row6_col9, #T_420e5_row8_col3, #T_420e5_row9_col6, #T_420e5_row10_col4 {\n",
       "  background-color: #dc5d4a;\n",
       "  color: #f1f1f1;\n",
       "}\n",
       "#T_420e5_row4_col6, #T_420e5_row6_col4 {\n",
       "  background-color: #f7b093;\n",
       "  color: #000000;\n",
       "}\n",
       "#T_420e5_row5_col7, #T_420e5_row5_col10, #T_420e5_row7_col5, #T_420e5_row10_col5 {\n",
       "  background-color: #e46e56;\n",
       "  color: #f1f1f1;\n",
       "}\n",
       "#T_420e5_row5_col8, #T_420e5_row6_col7, #T_420e5_row7_col6, #T_420e5_row8_col5, #T_420e5_row8_col9, #T_420e5_row9_col8 {\n",
       "  background-color: #ec7f63;\n",
       "  color: #f1f1f1;\n",
       "}\n",
       "#T_420e5_row9_col10, #T_420e5_row10_col9 {\n",
       "  background-color: #f18f71;\n",
       "  color: #f1f1f1;\n",
       "}\n",
       "</style>\n",
       "<table id=\"T_420e5_\">\n",
       "  <thead>\n",
       "    <tr>\n",
       "      <th class=\"blank level0\" >&nbsp;</th>\n",
       "      <th class=\"col_heading level0 col0\" >COP20</th>\n",
       "      <th class=\"col_heading level0 col1\" >COP21</th>\n",
       "      <th class=\"col_heading level0 col2\" >COP22</th>\n",
       "      <th class=\"col_heading level0 col3\" >COP23</th>\n",
       "      <th class=\"col_heading level0 col4\" >COP24</th>\n",
       "      <th class=\"col_heading level0 col5\" >COP25</th>\n",
       "      <th class=\"col_heading level0 col6\" >COP26</th>\n",
       "      <th class=\"col_heading level0 col7\" >FFF2018</th>\n",
       "      <th class=\"col_heading level0 col8\" >FFF2019</th>\n",
       "      <th class=\"col_heading level0 col9\" >FFF2020</th>\n",
       "      <th class=\"col_heading level0 col10\" >FFF2021</th>\n",
       "    </tr>\n",
       "  </thead>\n",
       "  <tbody>\n",
       "    <tr>\n",
       "      <th id=\"T_420e5_level0_row0\" class=\"row_heading level0 row0\" >COP20</th>\n",
       "      <td id=\"T_420e5_row0_col0\" class=\"data row0 col0\" >0.00</td>\n",
       "      <td id=\"T_420e5_row0_col1\" class=\"data row0 col1\" >0.41</td>\n",
       "      <td id=\"T_420e5_row0_col2\" class=\"data row0 col2\" >0.44</td>\n",
       "      <td id=\"T_420e5_row0_col3\" class=\"data row0 col3\" >0.44</td>\n",
       "      <td id=\"T_420e5_row0_col4\" class=\"data row0 col4\" >0.44</td>\n",
       "      <td id=\"T_420e5_row0_col5\" class=\"data row0 col5\" >0.46</td>\n",
       "      <td id=\"T_420e5_row0_col6\" class=\"data row0 col6\" >0.48</td>\n",
       "      <td id=\"T_420e5_row0_col7\" class=\"data row0 col7\" >0.55</td>\n",
       "      <td id=\"T_420e5_row0_col8\" class=\"data row0 col8\" >0.55</td>\n",
       "      <td id=\"T_420e5_row0_col9\" class=\"data row0 col9\" >0.58</td>\n",
       "      <td id=\"T_420e5_row0_col10\" class=\"data row0 col10\" >0.56</td>\n",
       "    </tr>\n",
       "    <tr>\n",
       "      <th id=\"T_420e5_level0_row1\" class=\"row_heading level0 row1\" >COP21</th>\n",
       "      <td id=\"T_420e5_row1_col0\" class=\"data row1 col0\" >0.41</td>\n",
       "      <td id=\"T_420e5_row1_col1\" class=\"data row1 col1\" >0.00</td>\n",
       "      <td id=\"T_420e5_row1_col2\" class=\"data row1 col2\" >0.39</td>\n",
       "      <td id=\"T_420e5_row1_col3\" class=\"data row1 col3\" >0.39</td>\n",
       "      <td id=\"T_420e5_row1_col4\" class=\"data row1 col4\" >0.39</td>\n",
       "      <td id=\"T_420e5_row1_col5\" class=\"data row1 col5\" >0.41</td>\n",
       "      <td id=\"T_420e5_row1_col6\" class=\"data row1 col6\" >0.41</td>\n",
       "      <td id=\"T_420e5_row1_col7\" class=\"data row1 col7\" >0.50</td>\n",
       "      <td id=\"T_420e5_row1_col8\" class=\"data row1 col8\" >0.50</td>\n",
       "      <td id=\"T_420e5_row1_col9\" class=\"data row1 col9\" >0.55</td>\n",
       "      <td id=\"T_420e5_row1_col10\" class=\"data row1 col10\" >0.52</td>\n",
       "    </tr>\n",
       "    <tr>\n",
       "      <th id=\"T_420e5_level0_row2\" class=\"row_heading level0 row2\" >COP22</th>\n",
       "      <td id=\"T_420e5_row2_col0\" class=\"data row2 col0\" >0.44</td>\n",
       "      <td id=\"T_420e5_row2_col1\" class=\"data row2 col1\" >0.39</td>\n",
       "      <td id=\"T_420e5_row2_col2\" class=\"data row2 col2\" >0.00</td>\n",
       "      <td id=\"T_420e5_row2_col3\" class=\"data row2 col3\" >0.36</td>\n",
       "      <td id=\"T_420e5_row2_col4\" class=\"data row2 col4\" >0.39</td>\n",
       "      <td id=\"T_420e5_row2_col5\" class=\"data row2 col5\" >0.41</td>\n",
       "      <td id=\"T_420e5_row2_col6\" class=\"data row2 col6\" >0.46</td>\n",
       "      <td id=\"T_420e5_row2_col7\" class=\"data row2 col7\" >0.54</td>\n",
       "      <td id=\"T_420e5_row2_col8\" class=\"data row2 col8\" >0.53</td>\n",
       "      <td id=\"T_420e5_row2_col9\" class=\"data row2 col9\" >0.57</td>\n",
       "      <td id=\"T_420e5_row2_col10\" class=\"data row2 col10\" >0.55</td>\n",
       "    </tr>\n",
       "    <tr>\n",
       "      <th id=\"T_420e5_level0_row3\" class=\"row_heading level0 row3\" >COP23</th>\n",
       "      <td id=\"T_420e5_row3_col0\" class=\"data row3 col0\" >0.44</td>\n",
       "      <td id=\"T_420e5_row3_col1\" class=\"data row3 col1\" >0.39</td>\n",
       "      <td id=\"T_420e5_row3_col2\" class=\"data row3 col2\" >0.36</td>\n",
       "      <td id=\"T_420e5_row3_col3\" class=\"data row3 col3\" >0.00</td>\n",
       "      <td id=\"T_420e5_row3_col4\" class=\"data row3 col4\" >0.35</td>\n",
       "      <td id=\"T_420e5_row3_col5\" class=\"data row3 col5\" >0.37</td>\n",
       "      <td id=\"T_420e5_row3_col6\" class=\"data row3 col6\" >0.42</td>\n",
       "      <td id=\"T_420e5_row3_col7\" class=\"data row3 col7\" >0.52</td>\n",
       "      <td id=\"T_420e5_row3_col8\" class=\"data row3 col8\" >0.51</td>\n",
       "      <td id=\"T_420e5_row3_col9\" class=\"data row3 col9\" >0.55</td>\n",
       "      <td id=\"T_420e5_row3_col10\" class=\"data row3 col10\" >0.53</td>\n",
       "    </tr>\n",
       "    <tr>\n",
       "      <th id=\"T_420e5_level0_row4\" class=\"row_heading level0 row4\" >COP24</th>\n",
       "      <td id=\"T_420e5_row4_col0\" class=\"data row4 col0\" >0.44</td>\n",
       "      <td id=\"T_420e5_row4_col1\" class=\"data row4 col1\" >0.39</td>\n",
       "      <td id=\"T_420e5_row4_col2\" class=\"data row4 col2\" >0.39</td>\n",
       "      <td id=\"T_420e5_row4_col3\" class=\"data row4 col3\" >0.35</td>\n",
       "      <td id=\"T_420e5_row4_col4\" class=\"data row4 col4\" >0.00</td>\n",
       "      <td id=\"T_420e5_row4_col5\" class=\"data row4 col5\" >0.35</td>\n",
       "      <td id=\"T_420e5_row4_col6\" class=\"data row4 col6\" >0.40</td>\n",
       "      <td id=\"T_420e5_row4_col7\" class=\"data row4 col7\" >0.48</td>\n",
       "      <td id=\"T_420e5_row4_col8\" class=\"data row4 col8\" >0.48</td>\n",
       "      <td id=\"T_420e5_row4_col9\" class=\"data row4 col9\" >0.54</td>\n",
       "      <td id=\"T_420e5_row4_col10\" class=\"data row4 col10\" >0.51</td>\n",
       "    </tr>\n",
       "    <tr>\n",
       "      <th id=\"T_420e5_level0_row5\" class=\"row_heading level0 row5\" >COP25</th>\n",
       "      <td id=\"T_420e5_row5_col0\" class=\"data row5 col0\" >0.46</td>\n",
       "      <td id=\"T_420e5_row5_col1\" class=\"data row5 col1\" >0.41</td>\n",
       "      <td id=\"T_420e5_row5_col2\" class=\"data row5 col2\" >0.41</td>\n",
       "      <td id=\"T_420e5_row5_col3\" class=\"data row5 col3\" >0.37</td>\n",
       "      <td id=\"T_420e5_row5_col4\" class=\"data row5 col4\" >0.35</td>\n",
       "      <td id=\"T_420e5_row5_col5\" class=\"data row5 col5\" >0.00</td>\n",
       "      <td id=\"T_420e5_row5_col6\" class=\"data row5 col6\" >0.39</td>\n",
       "      <td id=\"T_420e5_row5_col7\" class=\"data row5 col7\" >0.49</td>\n",
       "      <td id=\"T_420e5_row5_col8\" class=\"data row5 col8\" >0.47</td>\n",
       "      <td id=\"T_420e5_row5_col9\" class=\"data row5 col9\" >0.52</td>\n",
       "      <td id=\"T_420e5_row5_col10\" class=\"data row5 col10\" >0.49</td>\n",
       "    </tr>\n",
       "    <tr>\n",
       "      <th id=\"T_420e5_level0_row6\" class=\"row_heading level0 row6\" >COP26</th>\n",
       "      <td id=\"T_420e5_row6_col0\" class=\"data row6 col0\" >0.48</td>\n",
       "      <td id=\"T_420e5_row6_col1\" class=\"data row6 col1\" >0.41</td>\n",
       "      <td id=\"T_420e5_row6_col2\" class=\"data row6 col2\" >0.46</td>\n",
       "      <td id=\"T_420e5_row6_col3\" class=\"data row6 col3\" >0.42</td>\n",
       "      <td id=\"T_420e5_row6_col4\" class=\"data row6 col4\" >0.40</td>\n",
       "      <td id=\"T_420e5_row6_col5\" class=\"data row6 col5\" >0.39</td>\n",
       "      <td id=\"T_420e5_row6_col6\" class=\"data row6 col6\" >0.00</td>\n",
       "      <td id=\"T_420e5_row6_col7\" class=\"data row6 col7\" >0.47</td>\n",
       "      <td id=\"T_420e5_row6_col8\" class=\"data row6 col8\" >0.44</td>\n",
       "      <td id=\"T_420e5_row6_col9\" class=\"data row6 col9\" >0.51</td>\n",
       "      <td id=\"T_420e5_row6_col10\" class=\"data row6 col10\" >0.44</td>\n",
       "    </tr>\n",
       "    <tr>\n",
       "      <th id=\"T_420e5_level0_row7\" class=\"row_heading level0 row7\" >FFF2018</th>\n",
       "      <td id=\"T_420e5_row7_col0\" class=\"data row7 col0\" >0.55</td>\n",
       "      <td id=\"T_420e5_row7_col1\" class=\"data row7 col1\" >0.50</td>\n",
       "      <td id=\"T_420e5_row7_col2\" class=\"data row7 col2\" >0.54</td>\n",
       "      <td id=\"T_420e5_row7_col3\" class=\"data row7 col3\" >0.52</td>\n",
       "      <td id=\"T_420e5_row7_col4\" class=\"data row7 col4\" >0.48</td>\n",
       "      <td id=\"T_420e5_row7_col5\" class=\"data row7 col5\" >0.49</td>\n",
       "      <td id=\"T_420e5_row7_col6\" class=\"data row7 col6\" >0.47</td>\n",
       "      <td id=\"T_420e5_row7_col7\" class=\"data row7 col7\" >0.00</td>\n",
       "      <td id=\"T_420e5_row7_col8\" class=\"data row7 col8\" >0.37</td>\n",
       "      <td id=\"T_420e5_row7_col9\" class=\"data row7 col9\" >0.50</td>\n",
       "      <td id=\"T_420e5_row7_col10\" class=\"data row7 col10\" >0.44</td>\n",
       "    </tr>\n",
       "    <tr>\n",
       "      <th id=\"T_420e5_level0_row8\" class=\"row_heading level0 row8\" >FFF2019</th>\n",
       "      <td id=\"T_420e5_row8_col0\" class=\"data row8 col0\" >0.55</td>\n",
       "      <td id=\"T_420e5_row8_col1\" class=\"data row8 col1\" >0.50</td>\n",
       "      <td id=\"T_420e5_row8_col2\" class=\"data row8 col2\" >0.53</td>\n",
       "      <td id=\"T_420e5_row8_col3\" class=\"data row8 col3\" >0.51</td>\n",
       "      <td id=\"T_420e5_row8_col4\" class=\"data row8 col4\" >0.48</td>\n",
       "      <td id=\"T_420e5_row8_col5\" class=\"data row8 col5\" >0.47</td>\n",
       "      <td id=\"T_420e5_row8_col6\" class=\"data row8 col6\" >0.44</td>\n",
       "      <td id=\"T_420e5_row8_col7\" class=\"data row8 col7\" >0.37</td>\n",
       "      <td id=\"T_420e5_row8_col8\" class=\"data row8 col8\" >0.00</td>\n",
       "      <td id=\"T_420e5_row8_col9\" class=\"data row8 col9\" >0.47</td>\n",
       "      <td id=\"T_420e5_row8_col10\" class=\"data row8 col10\" >0.41</td>\n",
       "    </tr>\n",
       "    <tr>\n",
       "      <th id=\"T_420e5_level0_row9\" class=\"row_heading level0 row9\" >FFF2020</th>\n",
       "      <td id=\"T_420e5_row9_col0\" class=\"data row9 col0\" >0.58</td>\n",
       "      <td id=\"T_420e5_row9_col1\" class=\"data row9 col1\" >0.55</td>\n",
       "      <td id=\"T_420e5_row9_col2\" class=\"data row9 col2\" >0.57</td>\n",
       "      <td id=\"T_420e5_row9_col3\" class=\"data row9 col3\" >0.55</td>\n",
       "      <td id=\"T_420e5_row9_col4\" class=\"data row9 col4\" >0.54</td>\n",
       "      <td id=\"T_420e5_row9_col5\" class=\"data row9 col5\" >0.52</td>\n",
       "      <td id=\"T_420e5_row9_col6\" class=\"data row9 col6\" >0.51</td>\n",
       "      <td id=\"T_420e5_row9_col7\" class=\"data row9 col7\" >0.50</td>\n",
       "      <td id=\"T_420e5_row9_col8\" class=\"data row9 col8\" >0.47</td>\n",
       "      <td id=\"T_420e5_row9_col9\" class=\"data row9 col9\" >0.00</td>\n",
       "      <td id=\"T_420e5_row9_col10\" class=\"data row9 col10\" >0.45</td>\n",
       "    </tr>\n",
       "    <tr>\n",
       "      <th id=\"T_420e5_level0_row10\" class=\"row_heading level0 row10\" >FFF2021</th>\n",
       "      <td id=\"T_420e5_row10_col0\" class=\"data row10 col0\" >0.56</td>\n",
       "      <td id=\"T_420e5_row10_col1\" class=\"data row10 col1\" >0.52</td>\n",
       "      <td id=\"T_420e5_row10_col2\" class=\"data row10 col2\" >0.55</td>\n",
       "      <td id=\"T_420e5_row10_col3\" class=\"data row10 col3\" >0.53</td>\n",
       "      <td id=\"T_420e5_row10_col4\" class=\"data row10 col4\" >0.51</td>\n",
       "      <td id=\"T_420e5_row10_col5\" class=\"data row10 col5\" >0.49</td>\n",
       "      <td id=\"T_420e5_row10_col6\" class=\"data row10 col6\" >0.44</td>\n",
       "      <td id=\"T_420e5_row10_col7\" class=\"data row10 col7\" >0.44</td>\n",
       "      <td id=\"T_420e5_row10_col8\" class=\"data row10 col8\" >0.41</td>\n",
       "      <td id=\"T_420e5_row10_col9\" class=\"data row10 col9\" >0.45</td>\n",
       "      <td id=\"T_420e5_row10_col10\" class=\"data row10 col10\" >0.00</td>\n",
       "    </tr>\n",
       "  </tbody>\n",
       "</table>\n"
      ],
      "text/plain": [
       "<pandas.io.formats.style.Styler at 0x7f7a83ae5250>"
      ]
     },
     "execution_count": 30,
     "metadata": {},
     "output_type": "execute_result"
    }
   ],
   "source": [
    "ALLjsdM.style.background_gradient(cmap='coolwarm', axis=None).format(precision = 2)"
   ]
  }
 ],
 "metadata": {
  "interpreter": {
   "hash": "fe4d8685886068fc374377cb0ce03965843ae3df30816ebe900dd55a8a561255"
  },
  "kernelspec": {
   "display_name": "Python 3.7.11 ('bertopic_env2')",
   "language": "python",
   "name": "python3"
  },
  "language_info": {
   "codemirror_mode": {
    "name": "ipython",
    "version": 3
   },
   "file_extension": ".py",
   "mimetype": "text/x-python",
   "name": "python",
   "nbconvert_exporter": "python",
   "pygments_lexer": "ipython3",
   "version": "3.7.11"
  },
  "orig_nbformat": 4
 },
 "nbformat": 4,
 "nbformat_minor": 2
}
